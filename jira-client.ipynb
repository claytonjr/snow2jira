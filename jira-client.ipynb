{
 "cells": [
  {
   "cell_type": "code",
   "execution_count": 10,
   "metadata": {},
   "outputs": [],
   "source": [
    "import requests\n",
    "import json\n",
    "import pandas as pd \n",
    "import time\n",
    "import datetime "
   ]
  },
  {
   "cell_type": "code",
   "execution_count": 11,
   "metadata": {},
   "outputs": [],
   "source": [
    "base_url = \"https://zettabyte.atlassian.net/jira/rest/\"\n",
    "login_api = \"auth/1/session\"\n",
    "user_api = \"api/2/user?username={}\".format(\"\")\n",
    "issue_picker_api = \"api/2/issue/picker?currentJQL=assignee%3Dadmin\"\n",
    "bi_export_api = \"getbusinessintelligenseexport/1.0/message\"\n",
    "\n",
    "login_user_name = \"\"\n",
    "login_user_password = \"\"\n",
    "\n",
    "analysis_start_date = \"01-NOV-20\"\n",
    "analysis_stop_date = \"30-NOV-20\"\n",
    "\n",
    "export_dir = \"./export/\""
   ]
  },
  {
   "cell_type": "code",
   "execution_count": 12,
   "metadata": {},
   "outputs": [
    {
     "ename": "Exception",
     "evalue": "POST https://zettabyte.atlassian.net/auth/1/session 404",
     "output_type": "error",
     "traceback": [
      "\u001b[1;31m---------------------------------------------------------------------------\u001b[0m",
      "\u001b[1;31mException\u001b[0m                                 Traceback (most recent call last)",
      "\u001b[1;32m<ipython-input-12-73d5c0cf41c1>\u001b[0m in \u001b[0;36m<module>\u001b[1;34m\u001b[0m\n\u001b[0;32m      4\u001b[0m \u001b[1;33m\u001b[0m\u001b[0m\n\u001b[0;32m      5\u001b[0m \u001b[1;32mif\u001b[0m \u001b[0mlogin_response\u001b[0m\u001b[1;33m.\u001b[0m\u001b[0mstatus_code\u001b[0m \u001b[1;33m!=\u001b[0m \u001b[1;36m200\u001b[0m\u001b[1;33m:\u001b[0m\u001b[1;33m\u001b[0m\u001b[1;33m\u001b[0m\u001b[0m\n\u001b[1;32m----> 6\u001b[1;33m     \u001b[1;32mraise\u001b[0m \u001b[0mException\u001b[0m\u001b[1;33m(\u001b[0m\u001b[1;34m'POST '\u001b[0m \u001b[1;33m+\u001b[0m \u001b[0mlogin_url\u001b[0m \u001b[1;33m+\u001b[0m \u001b[1;34m' {}'\u001b[0m\u001b[1;33m.\u001b[0m\u001b[0mformat\u001b[0m\u001b[1;33m(\u001b[0m\u001b[0mlogin_response\u001b[0m\u001b[1;33m.\u001b[0m\u001b[0mstatus_code\u001b[0m\u001b[1;33m)\u001b[0m\u001b[1;33m)\u001b[0m\u001b[1;33m\u001b[0m\u001b[1;33m\u001b[0m\u001b[0m\n\u001b[0m\u001b[0;32m      7\u001b[0m \u001b[1;32melse\u001b[0m\u001b[1;33m:\u001b[0m\u001b[1;33m\u001b[0m\u001b[1;33m\u001b[0m\u001b[0m\n\u001b[0;32m      8\u001b[0m     \u001b[0mj_session_id\u001b[0m \u001b[1;33m=\u001b[0m \u001b[0mlogin_response\u001b[0m\u001b[1;33m.\u001b[0m\u001b[0mcookies\u001b[0m\u001b[1;33m[\u001b[0m\u001b[1;34m'JSESSIONID'\u001b[0m\u001b[1;33m]\u001b[0m\u001b[1;33m\u001b[0m\u001b[1;33m\u001b[0m\u001b[0m\n",
      "\u001b[1;31mException\u001b[0m: POST https://zettabyte.atlassian.net/auth/1/session 404"
     ]
    }
   ],
   "source": [
    "login_url = base_url + login_api\n",
    "login_data = {\"username\": login_user_name, \"password\": login_user_password}\n",
    "login_response = requests.post(url=login_url, json=login_data)\n",
    "\n",
    "if login_response.status_code != 200:\n",
    "    raise Exception('POST ' + login_url + ' {}'.format(login_response.status_code))\n",
    "else:\n",
    "    j_session_id = login_response.cookies['JSESSIONID']\n",
    "    \n",
    "print(\"JSessionId: {}\".format(j_session_id))"
   ]
  }
 ],
 "metadata": {
  "kernelspec": {
   "display_name": "Python 3",
   "language": "python",
   "name": "python3"
  },
  "language_info": {
   "codemirror_mode": {
    "name": "ipython",
    "version": 3
   },
   "file_extension": ".py",
   "mimetype": "text/x-python",
   "name": "python",
   "nbconvert_exporter": "python",
   "pygments_lexer": "ipython3",
   "version": "3.7.6"
  }
 },
 "nbformat": 4,
 "nbformat_minor": 4
}
